{
 "cells": [
  {
   "cell_type": "code",
   "execution_count": 64,
   "metadata": {},
   "outputs": [],
   "source": [
    "import matplotlib.pyplot as plt\n",
    "import numpy as np\n",
    "import pandas as pd\n",
    "import seaborn as sns\n",
    "\n",
    "from scipy import stats\n",
    "from scipy.stats import norm, skew \n",
    "\n",
    "plt.style.use('ggplot')"
   ]
  },
  {
   "cell_type": "code",
   "execution_count": 65,
   "metadata": {},
   "outputs": [],
   "source": [
    "df = pd.read_csv(\"test.csv\", sep=\";\")\n"
   ]
  },
  {
   "cell_type": "markdown",
   "metadata": {},
   "source": [
    "Есть некоторые проблемы с Pressure9am, Pressure3pm. Приведем их к numeric"
   ]
  },
  {
   "cell_type": "code",
   "execution_count": 66,
   "metadata": {},
   "outputs": [],
   "source": [
    "df[\"Pressure9am\"] = pd.to_numeric(df[\"Pressure9am\"], errors='coerce')\n",
    "df[\"Pressure3pm\"] = pd.to_numeric(df[\"Pressure3pm\"], errors='coerce')"
   ]
  },
  {
   "cell_type": "code",
   "execution_count": 67,
   "metadata": {},
   "outputs": [],
   "source": [
    "label = \"RainTomorrow\"\n",
    "real_vars = [\"MinTemp\",\n",
    "             \"MaxTemp\",\n",
    "             \"Rainfall\",\n",
    "             \"Evaporation\",\n",
    "             \"Sunshine\",\n",
    "             \"WindGustSpeed\",\n",
    "             \"WindSpeed9am\",\n",
    "             \"WindSpeed3pm\",\n",
    "             \"Humidity9am\",\n",
    "             \"Humidity3pm\",\n",
    "             \"Pressure9am\",\n",
    "             \"Pressure3pm\",\n",
    "             \"Cloud9am\",\n",
    "             \"Cloud3pm\",\n",
    "             \"Temp9am\",\n",
    "             \"Temp3pm\",\n",
    "             \"RISK_MM\"]\n",
    "\n",
    "cat_vars = [\"Location\",\n",
    "             \"WindGustDir\",\n",
    "             \"WindDir9am\",\n",
    "             \"WindDir3pm\",\n",
    "             \"RainToday\"]"
   ]
  },
  {
   "cell_type": "code",
   "execution_count": 68,
   "metadata": {},
   "outputs": [],
   "source": [
    "def polarangle(x, y):\n",
    "        P = 3.14159265358979323846\n",
    "        q = math.atan2(y, x)\n",
    "        if q < 0:\n",
    "            q += 2 * P\n",
    "        return q\n",
    "\n",
    "dirdi = {\"N\": 1,\n",
    "        \"NNE\": 2,\n",
    "        \"NE\": 3,\n",
    "        \"ENE\": 4,\n",
    "        \"E\": 5,\n",
    "        \"ESE\": 6,\n",
    "        \"SE\": 7,\n",
    "        \"SSE\": 8,\n",
    "        \"S\": 9,\n",
    "        \"SSW\": 10,\n",
    "         \"SW\": 11,\n",
    "        \"WSW\": 12,\n",
    "        \"W\": 13,\n",
    "        \"WNW\": 14,\n",
    "        \"NW\": 15,\n",
    "        \"NNW\": 16 }\n",
    "P = 3.14159265358979323846\n",
    "def stoa(s):\n",
    "    if type(s) ==  str:\n",
    "        return (P * 2.5 - (dirdi[s] - 1) * P / 8) % (P * 2)\n",
    "    else:\n",
    "        return s\n",
    "\n",
    "dat = [\"WindDir9am\", \"WindDir3pm\", \"WindGustDir\"]\n",
    "\n",
    "\n",
    "def fix_WindDir(x):\n",
    "    if(pd.isnull(x[\"WindDir9am\"]) != pd.isnull(x[\"WindDir3pm\"])):\n",
    "        if(pd.isnull(x[\"WindDir9am\"])):\n",
    "            return x[\"WindDir3pm\"]\n",
    "        if(pd.isnull(x[\"WindDir3pm\"])):\n",
    "            return x[\"WindDir9am\"]\n",
    "        return np.nan\n",
    "\n",
    "def fix_WindSpeed(x):\n",
    "    if(pd.isnull(x[\"WindSpeed9am\"]) != pd.isnull(x[\"WindSpeed3pm\"])):\n",
    "        if(pd.isnull(x[\"WindSpeed9am\"])):\n",
    "            return x[\"WindSpeed3pm\"]\n",
    "        if(pd.isnull(x[\"WindSpeed3pm\"])):\n",
    "            return x[\"WindSpeed9am\"]\n",
    "        return np.nan\n",
    "\n",
    "def fix_WindGustDir(x):\n",
    "    if (pd.isnull(x[\"WindGustDir\"])):\n",
    "        if(x[\"WindSpeed9am\"] > x[\"WindSpeed3pm\"]):\n",
    "            return x[\"WindDir9am\"]\n",
    "        if(x[\"WindSpeed9am\"] <= x[\"WindSpeed3pm\"]):\n",
    "            return x[\"WindDir3pm\"]\n",
    "        else:\n",
    "            return np.nan\n",
    "    return x[\"WindGustDir\"]\n",
    "\n",
    "def fix_WindGustSpeed(x):\n",
    "    if (pd.isnull(x[\"WindGustSpeed\"])):\n",
    "        return max(x[\"WindSpeed9am\"], x[\"WindSpeed3pm\"])\n",
    "    return x[\"WindGustSpeed\"]\n",
    "\n",
    "\n",
    "df.loc[df[\"WindDir9am\"].isnull(), \"WindDir9am\"] = df[df[\"WindDir9am\"].isnull()].apply(fix_WindDir, axis=1)\n",
    "df.loc[df[\"WindDir3pm\"].isnull(), \"WindDir3pm\"] = df[df[\"WindDir3pm\"].isnull()].apply(fix_WindDir, axis=1)\n",
    "\n",
    "df.loc[df[\"WindSpeed9am\"].isnull(), \"WindSpeed9am\"] = df[df[\"WindSpeed9am\"].isnull()].apply(fix_WindSpeed, axis=1)\n",
    "df.loc[df[\"WindSpeed3pm\"].isnull(), \"WindSpeed3pm\"] = df[df[\"WindSpeed3pm\"].isnull()].apply(fix_WindSpeed, axis=1)\n",
    "\n",
    "df.loc[df[\"WindGustDir\"].isnull(), \"WindGustDir\"] = df[df[\"WindGustDir\"].isnull()].apply(fix_WindGustDir, axis=1)\n",
    "df.loc[df[\"WindGustSpeed\"].isnull(), \"WindGustSpeed\"] = df[df[\"WindGustSpeed\"].isnull()].apply(fix_WindGustSpeed, axis=1)\n",
    "\n",
    "df[\"WindDir9am\"] = df[\"WindDir9am\"].apply(stoa)\n",
    "df[\"WindDir3pm\"] = df[\"WindDir3pm\"].apply(stoa)\n",
    "df[\"WindGustDir\"] = df[\"WindGustDir\"].apply(stoa)"
   ]
  },
  {
   "cell_type": "markdown",
   "metadata": {},
   "source": [
    "# Препроцесинг"
   ]
  },
  {
   "cell_type": "code",
   "execution_count": 69,
   "metadata": {},
   "outputs": [],
   "source": [
    "#Логорифмировать\n",
    "vars_to_log = [\"Rainfall\", \"Evaporation\", \"Sunshine\", \"Pressure3pm\", \"Pressure9am\"]\n",
    "df[vars_to_log] = df[vars_to_log].apply(lambda w: np.log(w + 1))\n",
    "#Пожать категориальные "
   ]
  },
  {
   "cell_type": "markdown",
   "metadata": {},
   "source": [
    "# Feature extracting"
   ]
  },
  {
   "cell_type": "markdown",
   "metadata": {},
   "source": [
    "## Temperature delta"
   ]
  },
  {
   "cell_type": "code",
   "execution_count": 70,
   "metadata": {},
   "outputs": [],
   "source": [
    "df[\"TDelta\"] = (df[\"MinTemp\"] - df[\"MaxTemp\"]).apply(abs)\n"
   ]
  },
  {
   "cell_type": "markdown",
   "metadata": {},
   "source": [
    "## PressureDelta"
   ]
  },
  {
   "cell_type": "code",
   "execution_count": 71,
   "metadata": {},
   "outputs": [],
   "source": [
    "# df[\"PressureDelta\"] = (df[\"Pressure9am\"] - df[\"Pressure3pm\"]).apply(abs)\n",
    "# df\n",
    "# df.plot(\"PressureDelta\", \"RISK_MM\", kind=\"scatter\")"
   ]
  },
  {
   "cell_type": "markdown",
   "metadata": {},
   "source": [
    "## Year"
   ]
  },
  {
   "cell_type": "code",
   "execution_count": 72,
   "metadata": {},
   "outputs": [],
   "source": [
    "df['Year']=df['Date'].apply(lambda x: x[:4])"
   ]
  },
  {
   "cell_type": "markdown",
   "metadata": {},
   "source": [
    "## Season"
   ]
  },
  {
   "cell_type": "code",
   "execution_count": 73,
   "metadata": {},
   "outputs": [],
   "source": [
    "df[\"Month\"] = df[\"Date\"].apply(str).apply(lambda x: x[5:7]).apply(int)"
   ]
  },
  {
   "cell_type": "code",
   "execution_count": 74,
   "metadata": {},
   "outputs": [],
   "source": [
    "def monthToSeason(month):\n",
    "    return month // 4\n",
    "df[\"Season\"] = df[\"Month\"].apply(monthToSeason)"
   ]
  },
  {
   "cell_type": "markdown",
   "metadata": {},
   "source": [
    "## Обработаем пропущенные значения\n",
    "Как будем заполнять? Самый простой вариант, заполнить либо нулями, либо средними, медианными и т.д. значениями. Но очевидно, что влажность, кол-во солнечных дней, облачность - зависят от климматического пояса, и и имеют большую корреляцию, с этим же параметром, в этой же локации, но в предыдущем году"
   ]
  },
  {
   "cell_type": "code",
   "execution_count": 75,
   "metadata": {},
   "outputs": [],
   "source": [
    "import math\n",
    "def fixByLocationAndMonth(feature, df):\n",
    "    evaporationsLM = df[df[feature].isnull() == False].groupby([\"Location\", \"Month\"]).describe()[feature][\"mean\"]\n",
    "    na_evaporation = df[df[feature].isnull()]\n",
    "\n",
    "    def FillNAEvaporation(x):\n",
    "        if (math.isnan(x[feature])):\n",
    "            try:\n",
    "                return evaporationsLM[(x[\"Location\"], x[\"Month\"])]\n",
    "            except:\n",
    "                try:\n",
    "                    return evaporationsLM[x[\"Location\"]].mean()\n",
    "                except:\n",
    "                    return df[feature].mean()\n",
    "        else:\n",
    "            return x[feature]\n",
    "        \n",
    "    df[feature] = df.apply(FillNAEvaporation, axis = 1)\n",
    "    \n",
    "fixByLocationAndMonth(\"Evaporation\", df)\n",
    "fixByLocationAndMonth(\"Sunshine\", df)\n",
    "fixByLocationAndMonth(\"Cloud9am\", df)\n",
    "fixByLocationAndMonth(\"Cloud3pm\", df)"
   ]
  },
  {
   "cell_type": "code",
   "execution_count": null,
   "metadata": {},
   "outputs": [],
   "source": []
  },
  {
   "cell_type": "code",
   "execution_count": null,
   "metadata": {},
   "outputs": [],
   "source": []
  },
  {
   "cell_type": "markdown",
   "metadata": {},
   "source": [
    "## Удалим некоторые переменные"
   ]
  },
  {
   "cell_type": "code",
   "execution_count": 76,
   "metadata": {},
   "outputs": [
    {
     "name": "stdout",
     "output_type": "stream",
     "text": [
      "['MinTemp', 'MaxTemp', 'Rainfall', 'Evaporation', 'Sunshine', 'WindGustSpeed', 'WindSpeed9am', 'WindSpeed3pm', 'Humidity9am', 'Humidity3pm', 'Pressure9am', 'Pressure3pm', 'Cloud9am', 'Cloud3pm', 'Temp9am', 'Temp3pm', 'RISK_MM', 'TDelta']\n",
      "(17601, 22)\n"
     ]
    },
    {
     "data": {
      "image/png": "[encoded data removed]",
      "text/plain": [
       "<Figure size 1440x864 with 1 Axes>"
      ]
     },
     "metadata": {},
     "output_type": "display_data"
    }
   ],
   "source": [
    "data = df.copy()\n",
    "real_vars.append(\"TDelta\")\n",
    "print(real_vars)\n",
    "to_drop = [\"Date\", \"RISK_MM\", \"Month\", \"Pressure3pm\", \"Pressure9am\"]#, \"WindDir9am\", \"WindDir3pm\", \"WindGustDir\"]\n",
    "\n",
    "data = data.drop(columns = to_drop)\n",
    "print(data.shape)\n",
    "fig, ax = plt.subplots(figsize=(20,12))\n",
    "sns_heatmap = sns.heatmap(data.isnull(), yticklabels=False, cbar=False, cmap='viridis')"
   ]
  },
  {
   "cell_type": "code",
   "execution_count": 77,
   "metadata": {},
   "outputs": [
    {
     "name": "stdout",
     "output_type": "stream",
     "text": [
      "(17601, 22)\n"
     ]
    }
   ],
   "source": [
    "data = data.fillna(0)\n",
    "print(data.shape)"
   ]
  },
  {
   "cell_type": "markdown",
   "metadata": {},
   "source": [
    "## Кластеризация"
   ]
  },
  {
   "cell_type": "code",
   "execution_count": 78,
   "metadata": {},
   "outputs": [],
   "source": [
    "import pandas as pd\n",
    "import numpy as np\n",
    "from sklearn.cluster import KMeans"
   ]
  },
  {
   "cell_type": "code",
   "execution_count": 79,
   "metadata": {},
   "outputs": [],
   "source": [
    "knn = KMeans(n_clusters=10)"
   ]
  },
  {
   "cell_type": "code",
   "execution_count": 80,
   "metadata": {},
   "outputs": [],
   "source": [
    "dataCL = df.copy()\n",
    "dataCL['Year'] = dataCL['Date'].apply(lambda x: x[:4])"
   ]
  },
  {
   "cell_type": "code",
   "execution_count": 81,
   "metadata": {},
   "outputs": [
    {
     "data": {
      "text/html": [
       "<div>\n",
       "<style scoped>\n",
       "    .dataframe tbody tr th:only-of-type {\n",
       "        vertical-align: middle;\n",
       "    }\n",
       "\n",
       "    .dataframe tbody tr th {\n",
       "        vertical-align: top;\n",
       "    }\n",
       "\n",
       "    .dataframe thead tr th {\n",
       "        text-align: left;\n",
       "    }\n",
       "</style>\n",
       "<table border=\"1\" class=\"dataframe\">\n",
       "  <thead>\n",
       "    <tr>\n",
       "      <th></th>\n",
       "      <th>MinTemp</th>\n",
       "      <th>MaxTemp</th>\n",
       "      <th>Rainfall</th>\n",
       "      <th>Humidity9am</th>\n",
       "      <th>Humidity3pm</th>\n",
       "    </tr>\n",
       "    <tr>\n",
       "      <th></th>\n",
       "      <th>mean</th>\n",
       "      <th>mean</th>\n",
       "      <th>mean</th>\n",
       "      <th>mean</th>\n",
       "      <th>mean</th>\n",
       "    </tr>\n",
       "  </thead>\n",
       "  <tbody>\n",
       "    <tr>\n",
       "      <th>0</th>\n",
       "      <td>13.516393</td>\n",
       "      <td>24.044262</td>\n",
       "      <td>0.442064</td>\n",
       "      <td>60.163934</td>\n",
       "      <td>44.147541</td>\n",
       "    </tr>\n",
       "    <tr>\n",
       "      <th>1</th>\n",
       "      <td>14.159091</td>\n",
       "      <td>29.442424</td>\n",
       "      <td>0.398593</td>\n",
       "      <td>56.409091</td>\n",
       "      <td>31.136364</td>\n",
       "    </tr>\n",
       "    <tr>\n",
       "      <th>2</th>\n",
       "      <td>14.757143</td>\n",
       "      <td>28.392063</td>\n",
       "      <td>0.250521</td>\n",
       "      <td>73.111111</td>\n",
       "      <td>50.253968</td>\n",
       "    </tr>\n",
       "    <tr>\n",
       "      <th>3</th>\n",
       "      <td>9.770149</td>\n",
       "      <td>25.289552</td>\n",
       "      <td>0.249486</td>\n",
       "      <td>60.671642</td>\n",
       "      <td>36.805970</td>\n",
       "    </tr>\n",
       "    <tr>\n",
       "      <th>4</th>\n",
       "      <td>12.781944</td>\n",
       "      <td>28.608333</td>\n",
       "      <td>0.180240</td>\n",
       "      <td>50.847222</td>\n",
       "      <td>27.611111</td>\n",
       "    </tr>\n",
       "    <tr>\n",
       "      <th>...</th>\n",
       "      <td>...</td>\n",
       "      <td>...</td>\n",
       "      <td>...</td>\n",
       "      <td>...</td>\n",
       "      <td>...</td>\n",
       "    </tr>\n",
       "    <tr>\n",
       "      <th>85</th>\n",
       "      <td>8.685714</td>\n",
       "      <td>22.922286</td>\n",
       "      <td>0.335287</td>\n",
       "      <td>75.337143</td>\n",
       "      <td>46.588571</td>\n",
       "    </tr>\n",
       "    <tr>\n",
       "      <th>86</th>\n",
       "      <td>10.530519</td>\n",
       "      <td>25.672727</td>\n",
       "      <td>0.273810</td>\n",
       "      <td>65.592105</td>\n",
       "      <td>37.136364</td>\n",
       "    </tr>\n",
       "    <tr>\n",
       "      <th>87</th>\n",
       "      <td>10.864706</td>\n",
       "      <td>22.828736</td>\n",
       "      <td>0.400492</td>\n",
       "      <td>83.488506</td>\n",
       "      <td>53.166667</td>\n",
       "    </tr>\n",
       "    <tr>\n",
       "      <th>88</th>\n",
       "      <td>15.613636</td>\n",
       "      <td>25.517614</td>\n",
       "      <td>0.789490</td>\n",
       "      <td>79.062500</td>\n",
       "      <td>60.363636</td>\n",
       "    </tr>\n",
       "    <tr>\n",
       "      <th>89</th>\n",
       "      <td>16.973653</td>\n",
       "      <td>23.125150</td>\n",
       "      <td>0.761948</td>\n",
       "      <td>72.197605</td>\n",
       "      <td>68.730539</td>\n",
       "    </tr>\n",
       "  </tbody>\n",
       "</table>\n",
       "<p>90 rows × 5 columns</p>\n",
       "</div>"
      ],
      "text/plain": [
       "      MinTemp    MaxTemp  Rainfall Humidity9am Humidity3pm\n",
       "         mean       mean      mean        mean        mean\n",
       "0   13.516393  24.044262  0.442064   60.163934   44.147541\n",
       "1   14.159091  29.442424  0.398593   56.409091   31.136364\n",
       "2   14.757143  28.392063  0.250521   73.111111   50.253968\n",
       "3    9.770149  25.289552  0.249486   60.671642   36.805970\n",
       "4   12.781944  28.608333  0.180240   50.847222   27.611111\n",
       "..        ...        ...       ...         ...         ...\n",
       "85   8.685714  22.922286  0.335287   75.337143   46.588571\n",
       "86  10.530519  25.672727  0.273810   65.592105   37.136364\n",
       "87  10.864706  22.828736  0.400492   83.488506   53.166667\n",
       "88  15.613636  25.517614  0.789490   79.062500   60.363636\n",
       "89  16.973653  23.125150  0.761948   72.197605   68.730539\n",
       "\n",
       "[90 rows x 5 columns]"
      ]
     },
     "execution_count": 81,
     "metadata": {},
     "output_type": "execute_result"
    }
   ],
   "source": [
    "group = dataCL.groupby(['Year','Location'],as_index=False)\n",
    "res = group.describe()[[('MinTemp','mean'),('MaxTemp','mean'),('Rainfall','mean'),('Humidity9am','mean'),('Humidity3pm','mean')]]\n",
    "res"
   ]
  },
  {
   "cell_type": "code",
   "execution_count": 82,
   "metadata": {},
   "outputs": [],
   "source": [
    "res.fillna(0,inplace=True)"
   ]
  },
  {
   "cell_type": "code",
   "execution_count": 83,
   "metadata": {},
   "outputs": [],
   "source": [
    "from sklearn.preprocessing import MinMaxScaler, StandardScaler\n",
    "\n",
    "scaler = StandardScaler()\n",
    "scaler.fit(res)\n",
    "scaled_res = scaler.transform(res)\n",
    "for_training = pd.DataFrame(scaled_res)"
   ]
  },
  {
   "cell_type": "code",
   "execution_count": 84,
   "metadata": {},
   "outputs": [
    {
     "data": {
      "text/plain": [
       "KMeans(algorithm='auto', copy_x=True, init='k-means++', max_iter=300,\n",
       "       n_clusters=10, n_init=10, n_jobs=None, precompute_distances='auto',\n",
       "       random_state=None, tol=0.0001, verbose=0)"
      ]
     },
     "execution_count": 84,
     "metadata": {},
     "output_type": "execute_result"
    }
   ],
   "source": [
    "knn.fit(for_training)"
   ]
  },
  {
   "cell_type": "code",
   "execution_count": 85,
   "metadata": {},
   "outputs": [],
   "source": [
    "from sklearn.manifold import TSNE\n",
    "tsne = TSNE(random_state=1, perplexity=30)\n",
    "tsne_repr=tsne.fit_transform(scaled_res)"
   ]
  },
  {
   "cell_type": "code",
   "execution_count": 86,
   "metadata": {},
   "outputs": [
    {
     "data": {
      "text/plain": [
       "<matplotlib.collections.PathCollection at 0x1a1178d5488>"
      ]
     },
     "execution_count": 86,
     "metadata": {},
     "output_type": "execute_result"
    },
    {
     "data": {
      "image/png": "[encoded data removed]",
      "text/plain": [
       "<Figure size 432x288 with 1 Axes>"
      ]
     },
     "metadata": {},
     "output_type": "display_data"
    }
   ],
   "source": [
    "import matplotlib.pyplot as plt\n",
    "plt.scatter(tsne_repr[:,0],tsne_repr[:,1], c = knn.labels_, cmap = 'viridis')"
   ]
  },
  {
   "cell_type": "code",
   "execution_count": 87,
   "metadata": {},
   "outputs": [
    {
     "data": {
      "text/plain": [
       "AgglomerativeClustering(affinity='euclidean', compute_full_tree='auto',\n",
       "                        connectivity=None, distance_threshold=None,\n",
       "                        linkage='ward', memory=None, n_clusters=10)"
      ]
     },
     "execution_count": 87,
     "metadata": {},
     "output_type": "execute_result"
    }
   ],
   "source": [
    "from sklearn.cluster import AgglomerativeClustering as AGC\n",
    "\n",
    "agc = AGC(n_clusters=10, affinity='euclidean', linkage='ward')\n",
    "agc.fit(scaled_res)"
   ]
  },
  {
   "cell_type": "code",
   "execution_count": 88,
   "metadata": {},
   "outputs": [
    {
     "data": {
      "text/plain": [
       "<matplotlib.collections.PathCollection at 0x1a117f6fe88>"
      ]
     },
     "execution_count": 88,
     "metadata": {},
     "output_type": "execute_result"
    },
    {
     "data": {
      "image/png": "[encoded data removed]",
      "text/plain": [
       "<Figure size 432x288 with 1 Axes>"
      ]
     },
     "metadata": {},
     "output_type": "display_data"
    }
   ],
   "source": [
    "plt.scatter(tsne_repr[:,0],tsne_repr[:,1], c = agc.labels_, cmap = 'viridis')"
   ]
  },
  {
   "cell_type": "code",
   "execution_count": 89,
   "metadata": {},
   "outputs": [],
   "source": [
    "res['label'] = agc.labels_"
   ]
  },
  {
   "cell_type": "code",
   "execution_count": 90,
   "metadata": {},
   "outputs": [],
   "source": [
    "group = dataCL.groupby(['Year','Location'])"
   ]
  },
  {
   "cell_type": "code",
   "execution_count": 91,
   "metadata": {},
   "outputs": [],
   "source": [
    "clusters_df=pd.DataFrame(group.size().reset_index(name = \"Group_Count\"))\n",
    "clusters_df['label']=agc.labels_"
   ]
  },
  {
   "cell_type": "markdown",
   "metadata": {},
   "source": [
    "## Присваиваем лейблы кластеров"
   ]
  },
  {
   "cell_type": "code",
   "execution_count": 92,
   "metadata": {},
   "outputs": [],
   "source": [
    "labelsDict = {}\n",
    "for i, row in clusters_df.iterrows():\n",
    "    labelsDict[(row[\"Year\"], row[\"Location\"])] = row[\"label\"]\n",
    "    \n",
    "def get_label(x):\n",
    "    return labelsDict[(x[\"Year\"], x[\"Location\"])]\n",
    "\n",
    "data[\"Label\"] = data.apply(get_label, axis = 1)"
   ]
  },
  {
   "cell_type": "markdown",
   "metadata": {},
   "source": []
  },
  {
   "cell_type": "markdown",
   "metadata": {},
   "source": [
    "## one-hot encoding "
   ]
  },
  {
   "cell_type": "code",
   "execution_count": 93,
   "metadata": {},
   "outputs": [],
   "source": [
    "data = pd.get_dummies(data, columns = [\"Label\", \"RainToday\", \"Season\"], dummy_na = True).drop(columns = [\"Year\", \"Location\"]).dropna()"
   ]
  },
  {
   "cell_type": "markdown",
   "metadata": {},
   "source": [
    "## export to csv"
   ]
  },
  {
   "cell_type": "code",
   "execution_count": 94,
   "metadata": {},
   "outputs": [],
   "source": [
    "data.to_csv(\"test_prepared.csv\")"
   ]
  },
  {
   "cell_type": "code",
   "execution_count": null,
   "metadata": {},
   "outputs": [],
   "source": []
  }
 ],
 "metadata": {
  "kernelspec": {
   "display_name": "Python 3",
   "language": "python",
   "name": "python3"
  },
  "language_info": {
   "codemirror_mode": {
    "name": "ipython",
    "version": 3
   },
   "file_extension": ".py",
   "mimetype": "text/x-python",
   "name": "python",
   "nbconvert_exporter": "python",
   "pygments_lexer": "ipython3",
   "version": "3.7.4"
  }
 },
 "nbformat": 4,
 "nbformat_minor": 4
}
